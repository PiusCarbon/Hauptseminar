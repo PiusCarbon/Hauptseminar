{
 "cells": [
  {
   "cell_type": "markdown",
   "metadata": {},
   "source": [
    "# The spatial $\\Lambda$-Viot-Fleming Process"
   ]
  },
  {
   "cell_type": "code",
   "execution_count": null,
   "metadata": {},
   "outputs": [],
   "source": [
    "import numpy as np\n",
    "import matplotlib.pyplot as plt\n",
    "import cProfile\n",
    "from scipy.spatial import cKDTree\n",
    "import time\n",
    "from slfv import ball_update_allele_distr, rectangle_update_allele_distribution, improved_update_allele_distribution, _get_indices"
   ]
  },
  {
   "cell_type": "markdown",
   "metadata": {},
   "source": [
    "setting up the parameters"
   ]
  },
  {
   "cell_type": "code",
   "execution_count": null,
   "metadata": {},
   "outputs": [],
   "source": [
    "dim = 2\n",
    "length = 1\n",
    "lambda_param = 0.1\n",
    "no_alleles = 2\n",
    "discretization_steps = 100\n",
    "event_rate = 1"
   ]
  },
  {
   "cell_type": "markdown",
   "metadata": {},
   "source": [
    "Initialization of the simulation"
   ]
  },
  {
   "cell_type": "code",
   "execution_count": null,
   "metadata": {},
   "outputs": [],
   "source": [
    "def initialization(T, dim, length, no_alleles, discretization_steps):\n",
    "    # define a meshgrid on the area [0, length] ** dim. Every point in the meshgrid needs to hold no_alleles values\n",
    "    allele_distr = 1 / no_alleles * np.ones((discretization_steps, discretization_steps, no_alleles))\n",
    "\n",
    "    # simulate the centre of reproduction events\n",
    "    z = np.random.uniform(0, length, (dim, T))\n",
    "\n",
    "    # simulate the radius of reproduction events\n",
    "    r = length / 10 * np.ones(T)\n",
    "\n",
    "    # simulate the impact of reproduction events\n",
    "    u = 0.01 * np.ones(T)\n",
    "    \n",
    "    return allele_distr, z, r, u"
   ]
  },
  {
   "cell_type": "markdown",
   "metadata": {},
   "source": [
    "### Control: plot initial gene distribution & centers of reproduction events"
   ]
  },
  {
   "cell_type": "code",
   "execution_count": null,
   "metadata": {},
   "outputs": [],
   "source": [
    "allele_distr, z, r, u = initialization(1000, dim, length, no_alleles, discretization_steps)\n",
    "\n",
    "plt.title(\"Initial allele distribution\")\n",
    "plt.imshow(allele_distr[:, :, 0])\n",
    "plt.colorbar()\n",
    "plt.show()\n",
    "\n",
    "plt.title(\"Center of reproduction events\")\n",
    "plt.scatter(z[0], z[1])\n",
    "plt.xlim(0, length)\n",
    "plt.ylim(0, length)\n",
    "plt.show()"
   ]
  },
  {
   "cell_type": "markdown",
   "metadata": {},
   "source": [
    "Lets start with the very basic algorithm, implemented in exactly the same straight-forward way as in the paper:"
   ]
  },
  {
   "cell_type": "code",
   "execution_count": null,
   "metadata": {},
   "outputs": [],
   "source": [
    "T = 10 ** 3\n",
    "allele_distr, z, r, u = initialization(T, dim, length, no_alleles, discretization_steps)\n",
    "ball_update_allele_distr(allele_distr, z, r, u, T, no_alleles, discretization_steps, length, True)"
   ]
  },
  {
   "cell_type": "code",
   "execution_count": null,
   "metadata": {},
   "outputs": [],
   "source": [
    "T = 10 ** 3\n",
    "allele_distr, z, r, u = initialization(T, dim, length, no_alleles, discretization_steps)\n",
    "rectangle_update_allele_distribution(allele_distr, z, r, u, T, no_alleles, discretization_steps, length, True)"
   ]
  },
  {
   "cell_type": "code",
   "execution_count": null,
   "metadata": {},
   "outputs": [],
   "source": [
    "T = 10 ** 3\n",
    "allele_distr, z, r, u = initialization(T, dim, length, no_alleles, discretization_steps)\n",
    "improved_update_allele_distribution(allele_distr, z, r, u, T, no_alleles, discretization_steps, length, True)"
   ]
  },
  {
   "cell_type": "markdown",
   "metadata": {},
   "source": [
    "Comparing both regular and improved algorithm in terms of runtime"
   ]
  },
  {
   "cell_type": "code",
   "execution_count": null,
   "metadata": {},
   "outputs": [],
   "source": [
    "regular = []\n",
    "improved = []\n",
    "rectangle = []\n",
    "\n",
    "for n in range(5):\n",
    "    T = 10 ** n\n",
    "    \n",
    "    allele_distr, z, r, u = initialization(T, dim, length, no_alleles, discretization_steps)\n",
    "    # measure time\n",
    "    start = time.time()\n",
    "    ball_update_allele_distr(allele_distr, z, r, u, T, no_alleles, discretization_steps, length)\n",
    "    end = time.time()\n",
    "    regular.append(end-start)\n",
    "\n",
    "    allele_distr, z, r, u = initialization(T, dim, length, no_alleles, discretization_steps)\n",
    "    # measure time\n",
    "    start = time.time()\n",
    "    improved_update_allele_distribution(allele_distr, z, r, u, T, no_alleles, discretization_steps, length)\n",
    "    end = time.time()\n",
    "    improved.append(end-start)\n",
    "\n",
    "    allele_distr, z, r, u = initialization(T, dim, length, no_alleles, discretization_steps)\n",
    "    start = time.time()\n",
    "    rectangle_update_allele_distribution(allele_distr, z, r, u, T, no_alleles, discretization_steps, length)\n",
    "    end = time.time()\n",
    "    rectangle.append(end-start)"
   ]
  },
  {
   "cell_type": "code",
   "execution_count": null,
   "metadata": {},
   "outputs": [],
   "source": [
    "plt.plot(regular, label='regular')\n",
    "plt.plot(improved, label='improved')\n",
    "plt.plot(rectangle, label='rectangle')\n",
    "plt.legend()\n",
    "plt.loglog()\n",
    "plt.show()"
   ]
  },
  {
   "cell_type": "code",
   "execution_count": null,
   "metadata": {},
   "outputs": [],
   "source": [
    "plt.plot(regular, label='regular')\n",
    "plt.plot(improved, label='improved')\n",
    "plt.legend()\n",
    "plt.show()"
   ]
  },
  {
   "cell_type": "code",
   "execution_count": null,
   "metadata": {},
   "outputs": [],
   "source": [
    "plt.plot(regular, label='regular')\n",
    "plt.plot(improved, label='improved')\n",
    "plt.plot(rectangle, label='rectangle')\n",
    "plt.legend()\n",
    "plt.yscale('log')\n",
    "plt.xticks([0, 1, 2, 3, 4], ['10^0', '10^1', '10^2', '10^3', '10^4'])\n",
    "plt.xlabel('number of events log(T)')\n",
    "plt.ylabel('run time in seconds log(s)')\n",
    "plt.show()"
   ]
  }
 ],
 "metadata": {
  "kernelspec": {
   "display_name": ".venv",
   "language": "python",
   "name": "python3"
  },
  "language_info": {
   "codemirror_mode": {
    "name": "ipython",
    "version": 3
   },
   "file_extension": ".py",
   "mimetype": "text/x-python",
   "name": "python",
   "nbconvert_exporter": "python",
   "pygments_lexer": "ipython3",
   "version": "3.8.8"
  }
 },
 "nbformat": 4,
 "nbformat_minor": 2
}
